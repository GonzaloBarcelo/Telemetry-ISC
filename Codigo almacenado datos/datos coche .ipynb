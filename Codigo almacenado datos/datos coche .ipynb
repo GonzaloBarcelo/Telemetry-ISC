{
 "cells": [
  {
   "cell_type": "code",
   "execution_count": null,
   "metadata": {},
   "outputs": [],
   "source": [
    "#conda install -c conda-forge -c plotly jupyter-dash"
   ]
  },
  {
   "cell_type": "code",
   "execution_count": 7,
   "metadata": {},
   "outputs": [],
   "source": [
    "from collections import deque"
   ]
  },
  {
   "cell_type": "code",
   "execution_count": 8,
   "metadata": {},
   "outputs": [],
   "source": [
    "X = deque(maxlen = 20)\n",
    "X.append(1)"
   ]
  },
  {
   "cell_type": "code",
   "execution_count": 10,
   "metadata": {},
   "outputs": [
    {
     "name": "stdout",
     "output_type": "stream",
     "text": [
      "Dash app running on http://127.0.0.1:1111/\n"
     ]
    }
   ],
   "source": [
    "\n",
    "\n",
    "from jupyter_dash import JupyterDash\n",
    "import dash_core_components as dcc\n",
    "import dash_html_components as html\n",
    "import plotly\n",
    "from dash.dependencies import Input, Output\n",
    "import random\n",
    "\n",
    "app = JupyterDash(__name__)\n",
    "app.layout = html.Div(\n",
    "    html.Div([\n",
    "        html.H4('Datos Coche'),\n",
    "        html.Div(id='live-update-text'),\n",
    "        dcc.Interval(\n",
    "            id='interval-component',\n",
    "            interval=1*1000, # in milliseconds\n",
    "            n_intervals=0\n",
    "        )\n",
    "    ])\n",
    ")\n",
    "\n",
    "@app.callback(Output('live-update-text', 'children'),\n",
    "              Input('interval-component', 'n_intervals'))\n",
    "def update_metrics(n):\n",
    "    X.append(random.randint(20,50)) ##aqui en vez de dar valores aleatorios leemos el ultimo dato del sensor\n",
    "    style = {'padding': '5px', 'fontSize': '32px'}\n",
    "    return [\n",
    "        html.Span('Velocidad: {0:.2f}'.format(X[-1]), style=style),\n",
    "    ]\n",
    "\n",
    "if __name__ == '__main__':\n",
    "    app.run_server(debug=True, port =1111)"
   ]
  },
  {
   "cell_type": "code",
   "execution_count": null,
   "metadata": {},
   "outputs": [],
   "source": []
  }
 ],
 "metadata": {
  "kernelspec": {
   "display_name": "Python 3",
   "language": "python",
   "name": "python3"
  },
  "language_info": {
   "codemirror_mode": {
    "name": "ipython",
    "version": 3
   },
   "file_extension": ".py",
   "mimetype": "text/x-python",
   "name": "python",
   "nbconvert_exporter": "python",
   "pygments_lexer": "ipython3",
   "version": "3.7.4"
  }
 },
 "nbformat": 4,
 "nbformat_minor": 2
}
